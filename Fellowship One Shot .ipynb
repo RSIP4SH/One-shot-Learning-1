{
 "cells": [
  {
   "cell_type": "markdown",
   "metadata": {},
   "source": [
    "# One Shot Learning\n",
    "Deep learning models require large amounts of data. To attain appropriate hyperparameter tuning to attain a functional model, required data sets tend to be quite large. However that is not always convenient, humans are able to accurately classify objects with exposure to very small data sets. \n",
    "\n",
    "One shot Learning is the attempt to classify objects, with exposure to data sets much smaller than would typically be used in deep learning models."
   ]
  },
  {
   "cell_type": "code",
   "execution_count": 1,
   "metadata": {},
   "outputs": [
    {
     "name": "stderr",
     "output_type": "stream",
     "text": [
      "Using TensorFlow backend.\n"
     ]
    }
   ],
   "source": [
    "import sys\n",
    "import numpy as np\n",
    "import imageio\n",
    "import os\n",
    "import matplotlib.pyplot as plt\n",
    "import tensorflow as tf\n",
    "import keras"
   ]
  },
  {
   "cell_type": "code",
   "execution_count": 2,
   "metadata": {},
   "outputs": [],
   "source": [
    "import random\n",
    "random.seed(2) # Python\n",
    "np.random.seed(1) #numpy\n",
    "from tensorflow import set_random_seed\n",
    "set_random_seed(3) # Tensorflow"
   ]
  },
  {
   "cell_type": "code",
   "execution_count": 3,
   "metadata": {},
   "outputs": [],
   "source": [
    "#The path to the omniglot data\n",
    "root_path = \"/mnt/fbc0d8ef-f929-44c3-b2ee-3c536d9e0645/AI/Fellowship\"\n",
    "train_path = os.path.join(root_path,'images_background') \n",
    "validation_path = os.path.join(root_path,'images_evaluation')\n",
    "\n",
    "def load_image(path, n = 0):\n",
    "    X = []\n",
    "    \n",
    "    #Load every alphabet seperately and place that in one tensor\n",
    "    for alphabet in os.listdir(path):\n",
    "        print(\"Loading Alphabet: \" + alphabet)\n",
    "        alphabet_path = os.path.join(path, alphabet)\n",
    "        \n",
    "        #Each character in the alphabet is placed in a separate folder\n",
    "        for letter in os.listdir(alphabet_path):\n",
    "            category_images = []\n",
    "            letter_path = os.path.join(alphabet_path, letter)\n",
    "            \n",
    "            if not os.path.isdir(letter_path):\n",
    "                continue\n",
    "            \n",
    "            #Read evey image with in the directory\n",
    "            for filename in os.listdir(letter_path):\n",
    "                image_path = os.path.join(letter_path, filename)\n",
    "                image = imageio.imread(image_path)\n",
    "                \n",
    "                #Image preprocessing\n",
    "                image = image/255\n",
    "                image = 1 - image\n",
    "                \n",
    "                category_images.append(image)\n",
    "                \n",
    "            try:\n",
    "                X.append(np.stack(category_images))\n",
    "            except ValueError as e:\n",
    "                print(e)\n",
    "                print(\"error - category_images\", category_images)\n",
    "        \n",
    "    X = np.stack(X)\n",
    "    return X"
   ]
  },
  {
   "cell_type": "code",
   "execution_count": 4,
   "metadata": {
    "scrolled": false
   },
   "outputs": [
    {
     "name": "stdout",
     "output_type": "stream",
     "text": [
      "Loading Training Set\n",
      "Loading Alphabet: Futurama\n",
      "Loading Alphabet: Grantha\n",
      "Loading Alphabet: Tifinagh\n",
      "Loading Alphabet: Mkhedruli_(Georgian)\n",
      "Loading Alphabet: Japanese_(hiragana)\n",
      "Loading Alphabet: Gujarati\n",
      "Loading Alphabet: Korean\n",
      "Loading Alphabet: Asomtavruli_(Georgian)\n",
      "Loading Alphabet: Early_Aramaic\n",
      "Loading Alphabet: Anglo-Saxon_Futhorc\n",
      "Loading Alphabet: Blackfoot_(Canadian_Aboriginal_Syllabics)\n",
      "Loading Alphabet: Balinese\n",
      "Loading Alphabet: Sanskrit\n",
      "Loading Alphabet: N_Ko\n",
      "Loading Alphabet: Hebrew\n",
      "Loading Alphabet: Ojibwe_(Canadian_Aboriginal_Syllabics)\n",
      "Loading Alphabet: Arcadian\n",
      "Loading Alphabet: Tagalog\n",
      "Loading Alphabet: Greek\n",
      "Loading Alphabet: Japanese_(katakana)\n",
      "Loading Alphabet: Burmese_(Myanmar)\n",
      "Loading Alphabet: Malay_(Jawi_-_Arabic)\n",
      "Loading Alphabet: Latin\n",
      "Loading Alphabet: Alphabet_of_the_Magi\n",
      "Loading Alphabet: Braille\n",
      "Loading Alphabet: Inuktitut_(Canadian_Aboriginal_Syllabics)\n",
      "Loading Alphabet: Syriac_(Estrangelo)\n",
      "Loading Alphabet: Bengali\n",
      "Loading Alphabet: Armenian\n",
      "Loading Alphabet: Cyrillic\n",
      "(964, 20, 105, 105)\n",
      "Now loading evaluation set\n",
      "Loading Alphabet: Sylheti\n",
      "Loading Alphabet: Ge_ez\n",
      "Loading Alphabet: Syriac_(Serto)\n",
      "Loading Alphabet: Aurek-Besh\n",
      "Loading Alphabet: Oriya\n",
      "Loading Alphabet: ULOG\n",
      "Loading Alphabet: Tibetan\n",
      "Loading Alphabet: Malayalam\n",
      "Loading Alphabet: Glagolitic\n",
      "Loading Alphabet: Atemayar_Qelisayer\n",
      "Loading Alphabet: Mongolian\n",
      "Loading Alphabet: Gurmukhi\n",
      "Loading Alphabet: Avesta\n",
      "Loading Alphabet: Keble\n",
      "Loading Alphabet: Kannada\n",
      "Loading Alphabet: Angelic\n",
      "Loading Alphabet: Tengwar\n",
      "Loading Alphabet: Atlantean\n",
      "Loading Alphabet: Manipuri\n",
      "Loading Alphabet: Old_Church_Slavonic_(Cyrillic)\n",
      "(659, 20, 105, 105)\n"
     ]
    }
   ],
   "source": [
    "print(\"Loading Training Set\")\n",
    "Xtrain = load_image(train_path)\n",
    "print(Xtrain.shape)\n",
    "\n",
    "print(\"Now loading evaluation set\")\n",
    "Xval = load_image(validation_path)\n",
    "print(Xval.shape)"
   ]
  },
  {
   "cell_type": "markdown",
   "metadata": {},
   "source": [
    "# Batch Creation"
   ]
  },
  {
   "cell_type": "code",
   "execution_count": 5,
   "metadata": {},
   "outputs": [],
   "source": [
    "def get_batch(data, batch_size):\n",
    "    n_classes, n_examples, w, h = data.shape\n",
    "    \n",
    "    pairs = [np.zeros((batch_size, h, w, 1)) for i in range(2)]\n",
    "    \n",
    "    targets = np.zeros((batch_size,))\n",
    "    targets[batch_size//2:] = 1\n",
    "    \n",
    "    categories = np.random.choice(n_classes, size = (batch_size,), replace = False)\n",
    "    \n",
    "    for i in range(batch_size):\n",
    "        category = categories[i]\n",
    "        \n",
    "        idx1 = np.random.randint(0, n_examples)\n",
    "        idx2 = np.random.randint(0, n_examples)\n",
    "        \n",
    "        if targets[i] == 0:\n",
    "            category_2 = category\n",
    "        else:\n",
    "            category_2 = (category + np.random.randint(1, n_classes)) % n_classes\n",
    "            \n",
    "        pairs[0][i,:,:,:] = data[category, idx1].reshape(w, h, 1)\n",
    "        pairs[1][i,:,:,:] = data[category_2, idx2].reshape(w, h, 1)\n",
    "        \n",
    "    return pairs, targets\n",
    "        "
   ]
  },
  {
   "cell_type": "code",
   "execution_count": 6,
   "metadata": {},
   "outputs": [],
   "source": [
    "def validation_batch(dataset, N):\n",
    "    \n",
    "    val_class, val_example, w, h = dataset.shape\n",
    "    \n",
    "    categories = np.random.choice(val_class, size = (N,), replace = False)\n",
    "    true_category = categories[0]\n",
    "    \n",
    "    indices = np.random.randint(0, val_example, size = (N,))\n",
    "    \n",
    "    ex1, ex2 = np.random.choice(val_example,replace=False,size=(2,))\n",
    "    \n",
    "    #Use the same image to create a list N times to act as a test image\n",
    "    test_image = np.asarray([dataset[true_category, ex1,:,:]]*N).reshape(N, w, h, 1)\n",
    "    \n",
    "    support_set = dataset[categories, indices,:,:]\n",
    "    \n",
    "    #Create the targets and fill in true character\n",
    "    targets = np.zeros((N,))\n",
    "    targets[0] = 1                                #Set the first target to be the true character\n",
    "    support_set[0,:,:] = dataset[true_category, ex2] #Fill in this character\n",
    "    \n",
    "    #Reshape data and return it\n",
    "    support_set = support_set.reshape(N,w,h,1)\n",
    "    pairs = [test_image, support_set]\n",
    "    return pairs, targets"
   ]
  },
  {
   "cell_type": "markdown",
   "metadata": {},
   "source": [
    "# Visualise Characters"
   ]
  },
  {
   "cell_type": "code",
   "execution_count": 7,
   "metadata": {},
   "outputs": [
    {
     "name": "stdout",
     "output_type": "stream",
     "text": [
      "2\n"
     ]
    },
    {
     "data": {
      "image/png": "[encoded data removed]",
      "text/plain": [
       "<Figure size 432x288 with 1 Axes>"
      ]
     },
     "metadata": {
      "needs_background": "light"
     },
     "output_type": "display_data"
    },
    {
     "data": {
      "image/png": "[encoded data removed]",
      "text/plain": [
       "<Figure size 432x288 with 1 Axes>"
      ]
     },
     "metadata": {
      "needs_background": "light"
     },
     "output_type": "display_data"
    },
    {
     "name": "stdout",
     "output_type": "stream",
     "text": [
      "similarity/distance: 0.0\n"
     ]
    },
    {
     "data": {
      "image/png": "[encoded data removed]",
      "text/plain": [
       "<Figure size 432x288 with 1 Axes>"
      ]
     },
     "metadata": {
      "needs_background": "light"
     },
     "output_type": "display_data"
    },
    {
     "data": {
      "image/png": "[encoded data removed]",
      "text/plain": [
       "<Figure size 432x288 with 1 Axes>"
      ]
     },
     "metadata": {
      "needs_background": "light"
     },
     "output_type": "display_data"
    },
    {
     "name": "stdout",
     "output_type": "stream",
     "text": [
      "similarity/distance: 0.0\n"
     ]
    },
    {
     "data": {
      "image/png": "[encoded data removed]",
      "text/plain": [
       "<Figure size 432x288 with 1 Axes>"
      ]
     },
     "metadata": {
      "needs_background": "light"
     },
     "output_type": "display_data"
    },
    {
     "data": {
      "image/png": "[encoded data removed]",
      "text/plain": [
       "<Figure size 432x288 with 1 Axes>"
      ]
     },
     "metadata": {
      "needs_background": "light"
     },
     "output_type": "display_data"
    },
    {
     "name": "stdout",
     "output_type": "stream",
     "text": [
      "similarity/distance: 0.0\n"
     ]
    },
    {
     "data": {
      "image/png": "[encoded data removed]",
      "text/plain": [
       "<Figure size 432x288 with 1 Axes>"
      ]
     },
     "metadata": {
      "needs_background": "light"
     },
     "output_type": "display_data"
    },
    {
     "data": {
      "image/png": "[encoded data removed]",
      "text/plain": [
       "<Figure size 432x288 with 1 Axes>"
      ]
     },
     "metadata": {
      "needs_background": "light"
     },
     "output_type": "display_data"
    },
    {
     "name": "stdout",
     "output_type": "stream",
     "text": [
      "similarity/distance: 0.0\n"
     ]
    },
    {
     "data": {
      "image/png": "[encoded data removed]",
      "text/plain": [
       "<Figure size 432x288 with 1 Axes>"
      ]
     },
     "metadata": {
      "needs_background": "light"
     },
     "output_type": "display_data"
    },
    {
     "data": {
      "image/png": "[encoded data removed]",
      "text/plain": [
       "<Figure size 432x288 with 1 Axes>"
      ]
     },
     "metadata": {
      "needs_background": "light"
     },
     "output_type": "display_data"
    },
    {
     "name": "stdout",
     "output_type": "stream",
     "text": [
      "similarity/distance: 0.0\n"
     ]
    },
    {
     "data": {
      "image/png": "[encoded data removed]",
      "text/plain": [
       "<Figure size 432x288 with 1 Axes>"
      ]
     },
     "metadata": {
      "needs_background": "light"
     },
     "output_type": "display_data"
    },
    {
     "data": {
      "image/png": "[encoded data removed]",
      "text/plain": [
       "<Figure size 432x288 with 1 Axes>"
      ]
     },
     "metadata": {
      "needs_background": "light"
     },
     "output_type": "display_data"
    },
    {
     "name": "stdout",
     "output_type": "stream",
     "text": [
      "similarity/distance: 1.0\n"
     ]
    },
    {
     "data": {
      "image/png": "[encoded data removed]",
      "text/plain": [
       "<Figure size 432x288 with 1 Axes>"
      ]
     },
     "metadata": {
      "needs_background": "light"
     },
     "output_type": "display_data"
    },
    {
     "data": {
      "image/png": "[encoded data removed]",
      "text/plain": [
       "<Figure size 432x288 with 1 Axes>"
      ]
     },
     "metadata": {
      "needs_background": "light"
     },
     "output_type": "display_data"
    },
    {
     "name": "stdout",
     "output_type": "stream",
     "text": [
      "similarity/distance: 1.0\n"
     ]
    },
    {
     "data": {
      "image/png": "[encoded data removed]",
      "text/plain": [
       "<Figure size 432x288 with 1 Axes>"
      ]
     },
     "metadata": {
      "needs_background": "light"
     },
     "output_type": "display_data"
    },
    {
     "data": {
      "image/png": "[encoded data removed]",
      "text/plain": [
       "<Figure size 432x288 with 1 Axes>"
      ]
     },
     "metadata": {
      "needs_background": "light"
     },
     "output_type": "display_data"
    },
    {
     "name": "stdout",
     "output_type": "stream",
     "text": [
      "similarity/distance: 1.0\n"
     ]
    },
    {
     "data": {
      "image/png": "[encoded data removed]",
      "text/plain": [
       "<Figure size 432x288 with 1 Axes>"
      ]
     },
     "metadata": {
      "needs_background": "light"
     },
     "output_type": "display_data"
    },
    {
     "data": {
      "image/png": "[encoded data removed]",
      "text/plain": [
       "<Figure size 432x288 with 1 Axes>"
      ]
     },
     "metadata": {
      "needs_background": "light"
     },
     "output_type": "display_data"
    },
    {
     "name": "stdout",
     "output_type": "stream",
     "text": [
      "similarity/distance: 1.0\n"
     ]
    },
    {
     "data": {
      "image/png": "[encoded data removed]",
      "text/plain": [
       "<Figure size 432x288 with 1 Axes>"
      ]
     },
     "metadata": {
      "needs_background": "light"
     },
     "output_type": "display_data"
    },
    {
     "data": {
      "image/png": "[encoded data removed]",
      "text/plain": [
       "<Figure size 432x288 with 1 Axes>"
      ]
     },
     "metadata": {
      "needs_background": "light"
     },
     "output_type": "display_data"
    },
    {
     "name": "stdout",
     "output_type": "stream",
     "text": [
      "similarity/distance: 1.0\n"
     ]
    }
   ],
   "source": [
    "pairs, targets = get_batch(Xtrain, 10)\n",
    "print(len(pairs))\n",
    "for i in range(len(pairs[0])):\n",
    "    image = np.reshape(pairs[0][i],(105,105))\n",
    "    plt.imshow(image)\n",
    "    plt.show()\n",
    "    image = np.reshape(pairs[1][i],(105,105))\n",
    "    plt.imshow(image)\n",
    "    plt.show()\n",
    "    \n",
    "    print(\"similarity/distance: \" + str(targets[i]))"
   ]
  },
  {
   "cell_type": "markdown",
   "metadata": {},
   "source": [
    "# Model Architecture"
   ]
  },
  {
   "cell_type": "code",
   "execution_count": 8,
   "metadata": {},
   "outputs": [],
   "source": [
    "from keras.models import Model, load_model\n",
    "from keras.layers import Conv2D, MaxPooling2D, Flatten, Dropout, Dense, Input, Lambda\n",
    "from keras.layers.core import Lambda, RepeatVector, Reshape\n",
    "from keras.layers.merge import concatenate\n",
    "from keras.optimizers import Adam\n",
    "from keras.regularizers import l2\n",
    "from keras import backend as K\n",
    "from keras.models import Model, load_model\n",
    "from keras.layers import Input\n",
    "from keras.layers.core import Lambda, RepeatVector, Reshape\n",
    "from keras.layers.convolutional import Conv2D, Conv2DTranspose\n",
    "from keras.layers.pooling import MaxPooling2D\n",
    "from keras.layers.merge import concatenate\n",
    "from keras.callbacks import EarlyStopping, ModelCheckpoint, ReduceLROnPlateau\n",
    "from keras import backend as K"
   ]
  },
  {
   "cell_type": "code",
   "execution_count": 9,
   "metadata": {},
   "outputs": [],
   "source": [
    "#Contrastive Loss\n",
    "def euclid_dist(input_pair):\n",
    "    x, y = input_pair\n",
    "    distance = K.sqrt(K.maximum(K.sum(K.square(x - y), axis=1, keepdims=True), K.epsilon()))\n",
    "    return distance\n",
    "\n",
    "def euclid_dist_shape(shapes):\n",
    "    shape1, shape2 = shapes\n",
    "    return (shape1[0],1)\n",
    "\n",
    "def contrastive_loss(y_true, y_pred):\n",
    "    margin = 1\n",
    "    y_true = -1 * y_true + 1\n",
    "    return K.mean((1-y_true) * K.square(y_pred) + y_true *  K.square(K.maximum(margin - y_pred, 0.0)))\n",
    "\n",
    "def acc(y_true, y_pred):\n",
    "    ones = K.ones_like(y_pred)\n",
    "    return K.mean(K.equal(y_true, ones - K.clip(K.round(y_pred), 0, 1)), axis=-1)\n",
    "\n",
    "def W_init(shape, name=None):\n",
    "    values = np.random.normal(loc=0, scale=1e-2, size=shape)\n",
    "    return K.variable(values,name=name)"
   ]
  },
  {
   "cell_type": "code",
   "execution_count": 10,
   "metadata": {},
   "outputs": [],
   "source": [
    "im_width  = 105\n",
    "im_height = 105\n",
    "im_chan   = 1      # Number of channels: first is original and second cumsum(axis=0)"
   ]
  },
  {
   "cell_type": "markdown",
   "metadata": {},
   "source": [
    "# Siamese Network\n",
    "Siamese networks leverage two convolutional networks to solve the problem of One Shot Learning. The model will learn the embeddings of 2 different input images and attempt to calculate the Contrastive Loss function. Siamese networks are essentially two parallel CNN models. A single CNN architecture will have 9 layers comprised of max pooling and convolutions. The 9 layers carry out feature selection.\n",
    "\n",
    "The model is optimized with an Adam optimizer and a randomly chosen value for the learning rate."
   ]
  },
  {
   "cell_type": "code",
   "execution_count": 11,
   "metadata": {},
   "outputs": [
    {
     "name": "stdout",
     "output_type": "stream",
     "text": [
      "__________________________________________________________________________________________________\n",
      "Layer (type)                    Output Shape         Param #     Connected to                     \n",
      "==================================================================================================\n",
      "input_1 (InputLayer)            (None, 105, 105, 1)  0                                            \n",
      "__________________________________________________________________________________________________\n",
      "input_2 (InputLayer)            (None, 105, 105, 1)  0                                            \n",
      "__________________________________________________________________________________________________\n",
      "model_1 (Model)                 (None, 4096)         10636096    input_1[0][0]                    \n",
      "                                                                 input_2[0][0]                    \n",
      "__________________________________________________________________________________________________\n",
      "lambda_1 (Lambda)               (None, 1)            0           model_1[1][0]                    \n",
      "                                                                 model_1[2][0]                    \n",
      "__________________________________________________________________________________________________\n",
      "dense_2 (Dense)                 (None, 1)            2           lambda_1[0][0]                   \n",
      "==================================================================================================\n",
      "Total params: 10,636,098\n",
      "Trainable params: 10,636,098\n",
      "Non-trainable params: 0\n",
      "__________________________________________________________________________________________________\n"
     ]
    }
   ],
   "source": [
    "#Build U-Net model\n",
    "#(im_height, im_width, im_chan) --> shape of input\n",
    "input_img = Input((im_height, im_width, im_chan), name='img')\n",
    "\n",
    "#Down Block 1\n",
    "c1 = Conv2D(64,(10,10), activation='relu', kernel_initializer=W_init, kernel_regularizer=l2(2e-4) )(input_img)\n",
    "p1 = MaxPooling2D() (c1)\n",
    "\n",
    "#Down Block 2\n",
    "c2 = Conv2D(128, (7, 7), activation='relu', kernel_initializer=W_init, kernel_regularizer=l2(2e-4)) (p1)\n",
    "p2 = MaxPooling2D() (c2)\n",
    "\n",
    "#Down Block 3\n",
    "c3 = Conv2D(128, (4, 4), activation='relu', kernel_initializer=W_init, kernel_regularizer=l2(2e-4)) (p2)\n",
    "p3 = MaxPooling2D() (c3)\n",
    "\n",
    "#Down Block 4\n",
    "c4 = Conv2D(256, (4, 4), activation='relu', kernel_initializer=W_init, kernel_regularizer=l2(2e-4)) (p3)\n",
    "p4 = MaxPooling2D() (c4)\n",
    "\n",
    "flat = Flatten()(p4)\n",
    "output = Dense(4096, kernel_initializer=W_init, activation='sigmoid')(flat)\n",
    "\n",
    "\n",
    "#Instantiate the Model\n",
    "model = Model(input_img, output)\n",
    "\n",
    "input1 = Input(shape = (105,105,1))\n",
    "input2 = Input(shape = (105,105,1))\n",
    "\n",
    "output1 = model(input1)\n",
    "output2 = model(input2)\n",
    "\n",
    "\n",
    "distance = Lambda(euclid_dist, output_shape=euclid_dist_shape)([output1, output2])\n",
    "\n",
    "prediction = Dense(1, activation='sigmoid')(distance)\n",
    "    \n",
    "siamese = Model(inputs=[input1, input2], outputs=prediction)\n",
    "    \n",
    "optimizer = Adam(lr=0.001, beta_1=0.9, beta_2=0.999, epsilon=1e-08, decay=0.0)\n",
    "    \n",
    "siamese.compile(loss=contrastive_loss, optimizer=optimizer, metrics=[acc])\n",
    "\n",
    "siamese.summary()"
   ]
  },
  {
   "cell_type": "code",
   "execution_count": 12,
   "metadata": {},
   "outputs": [
    {
     "name": "stdout",
     "output_type": "stream",
     "text": [
      "processed: 1                                                  \n",
      "  0%|          | 0/20000 [00:00<?, ?it/s] Accuracy 0.425\n",
      "processed: 501                                                  \n",
      "  3%|▎         | 501/20000 [00:59<35:03,  9.27it/s] Accuracy 0.21\n",
      "processed: 1001                                                  \n",
      "  5%|▌         | 1001/20000 [01:57<34:23,  9.21it/s] Accuracy 0.36\n",
      "processed: 1501                                                  \n",
      "  8%|▊         | 1501/20000 [02:55<33:26,  9.22it/s] Accuracy 0.465\n",
      "processed: 2001                                                  \n",
      " 10%|█         | 2001/20000 [03:53<32:42,  9.17it/s] Accuracy 0.565\n",
      "processed: 2501                                                  \n",
      " 13%|█▎        | 2501/20000 [04:51<31:45,  9.18it/s] Accuracy 0.685\n",
      "processed: 3001                                                  \n",
      " 15%|█▌        | 3001/20000 [05:49<30:49,  9.19it/s] Accuracy 0.785\n",
      "processed: 3501                                                  \n",
      " 18%|█▊        | 3501/20000 [06:47<29:55,  9.19it/s] Accuracy 0.74\n",
      "processed: 4001                                                  \n",
      " 20%|██        | 4001/20000 [07:45<29:04,  9.17it/s] Accuracy 0.745\n",
      "processed: 4501                                                  \n",
      " 23%|██▎       | 4501/20000 [08:43<28:04,  9.20it/s] Accuracy 0.71\n",
      "processed: 5001                                                  \n",
      " 25%|██▌       | 5001/20000 [09:42<27:12,  9.19it/s] Accuracy 0.825\n",
      "processed: 5501                                                  \n",
      " 28%|██▊       | 5501/20000 [10:40<26:22,  9.16it/s] Accuracy 0.82\n",
      "processed: 6001                                                  \n",
      " 30%|███       | 6001/20000 [11:38<25:29,  9.15it/s] Accuracy 0.81\n",
      "processed: 6501                                                  \n",
      " 33%|███▎      | 6501/20000 [12:37<24:27,  9.20it/s] Accuracy 0.825\n",
      "processed: 7001                                                  \n",
      " 35%|███▌      | 7001/20000 [13:35<23:40,  9.15it/s] Accuracy 0.865\n",
      "processed: 7501                                                  \n",
      " 38%|███▊      | 7501/20000 [14:33<22:48,  9.14it/s] Accuracy 0.85\n",
      "processed: 8001                                                  \n",
      " 40%|████      | 8001/20000 [15:31<21:50,  9.16it/s] Accuracy 0.79\n",
      "processed: 8501                                                  \n",
      " 43%|████▎     | 8501/20000 [16:30<21:00,  9.12it/s] Accuracy 0.83\n",
      "processed: 9001                                                  \n",
      " 45%|████▌     | 9001/20000 [17:28<20:06,  9.12it/s] Accuracy 0.82\n",
      "processed: 9501                                                  \n",
      " 48%|████▊     | 9501/20000 [18:26<19:07,  9.15it/s] Accuracy 0.895\n",
      "processed: 10001                                                  \n",
      " 50%|█████     | 10001/20000 [19:25<18:31,  9.00it/s] Accuracy 0.89\n",
      "processed: 10501                                                  \n",
      " 53%|█████▎    | 10501/20000 [20:24<17:35,  9.00it/s] Accuracy 0.885\n",
      "processed: 11001                                                  \n",
      " 55%|█████▌    | 11001/20000 [21:23<16:28,  9.10it/s] Accuracy 0.89\n",
      "processed: 11501                                                  \n",
      " 58%|█████▊    | 11501/20000 [22:22<15:40,  9.04it/s] Accuracy 0.875\n",
      "processed: 12001                                                  \n",
      " 60%|██████    | 12001/20000 [23:21<14:43,  9.05it/s] Accuracy 0.88\n",
      "processed: 12501                                                  \n",
      " 63%|██████▎   | 12501/20000 [24:20<13:53,  9.00it/s] Accuracy 0.86\n",
      "processed: 13001                                                  \n",
      " 65%|██████▌   | 13001/20000 [25:19<12:43,  9.17it/s] Accuracy 0.895\n",
      "processed: 13501                                                  \n",
      " 68%|██████▊   | 13501/20000 [26:18<12:08,  8.93it/s] Accuracy 0.88\n",
      "processed: 14001                                                  \n",
      " 70%|███████   | 14001/20000 [27:18<11:12,  8.91it/s] Accuracy 0.9\n",
      "processed: 14501                                                  \n",
      " 73%|███████▎  | 14501/20000 [28:18<10:16,  8.93it/s] Accuracy 0.865\n",
      "processed: 15001                                                  \n",
      " 75%|███████▌  | 15001/20000 [29:17<09:22,  8.89it/s] Accuracy 0.85\n",
      "processed: 15501                                                  \n",
      " 78%|███████▊  | 15501/20000 [30:18<08:32,  8.78it/s] Accuracy 0.895\n",
      "processed: 16001                                                  \n",
      " 80%|████████  | 16001/20000 [31:18<07:35,  8.78it/s] Accuracy 0.92\n",
      "processed: 16501                                                  \n",
      " 83%|████████▎ | 16501/20000 [32:18<06:35,  8.84it/s] Accuracy 0.89\n",
      "processed: 17001                                                  \n",
      " 85%|████████▌ | 17001/20000 [33:19<05:41,  8.79it/s] Accuracy 0.88\n",
      "processed: 17501                                                  \n",
      " 88%|████████▊ | 17501/20000 [34:19<04:43,  8.81it/s] Accuracy 0.885\n",
      "processed: 18001                                                  \n",
      " 90%|█████████ | 18001/20000 [35:19<03:46,  8.82it/s] Accuracy 0.91\n",
      "processed: 18501                                                  \n",
      " 93%|█████████▎| 18501/20000 [36:19<02:50,  8.81it/s] Accuracy 0.865\n",
      "processed: 19001                                                  \n",
      " 95%|█████████▌| 19001/20000 [37:20<01:53,  8.78it/s] Accuracy 0.905\n",
      "processed: 19501                                                  \n",
      " 98%|█████████▊| 19501/20000 [38:20<00:57,  8.74it/s] Accuracy 0.88\n",
      "100%|██████████| 20000/20000 [39:21<00:00,  8.87it/s]\n",
      "Best accuracy is 0.92\n"
     ]
    }
   ],
   "source": [
    "from tqdm import tqdm\n",
    "batch_size = 64\n",
    "TRAIN_BATCH = 20000\n",
    "TEST_COUNT = 200\n",
    "validate_batch = 500\n",
    "best_val_acc = 0.0\n",
    "N_WAY = 20\n",
    "file_path = \"weights550u6306t.hdf5\"\n",
    "\n",
    "intermediate_layer = Model(inputs=siamese.input, outputs=siamese.get_layer(index=3).output)\n",
    "values = range(TRAIN_BATCH)\n",
    "with tqdm(total=len(values), file=sys.stdout) as pbar:\n",
    "    for i in range(TRAIN_BATCH):\n",
    "        if(i % 500 == 0):\n",
    "            pbar.write('processed: %d%s' % (1 + i, ' ' * 50))\n",
    "        pbar.update(1)\n",
    "        pairs, targets = get_batch(Xtrain, batch_size)\n",
    "        #targets = [[t] for t in targets]\n",
    "        loss = siamese.train_on_batch(pairs, targets)\n",
    "        \n",
    "        #Validates at validation interval\n",
    "        if i % validate_batch == 0:\n",
    "            correct_tested = 0\n",
    "            for i in range(TEST_COUNT):\n",
    "                pairs, targets = validation_batch(Xval, N_WAY)\n",
    "                pred = intermediate_layer.predict_on_batch(pairs)\n",
    "\n",
    "                maxindex = np.argmin(pred)\n",
    "\n",
    "                if maxindex == 0:\n",
    "                    correct_tested += 1\n",
    "\n",
    "            val_acc = correct_tested / TEST_COUNT\n",
    "            if val_acc == 1.0:\n",
    "                print(\"Gradient Explosion\")\n",
    "                break\n",
    "                \n",
    "            #Tracking Accuracy Values\n",
    "            print(' Accuracy ' + str(val_acc))\n",
    "            if val_acc > best_val_acc:\n",
    "                best_val_acc = val_acc\n",
    "                model.save_weights(file_path)\n",
    "\n",
    "print(\"Best accuracy is \" + str(best_val_acc))"
   ]
  }
 ],
 "metadata": {
  "kernelspec": {
   "display_name": "Python 2",
   "language": "python",
   "name": "python2"
  },
  "language_info": {
   "codemirror_mode": {
    "name": "ipython",
    "version": 3
   },
   "file_extension": ".py",
   "mimetype": "text/x-python",
   "name": "python",
   "nbconvert_exporter": "python",
   "pygments_lexer": "ipython3",
   "version": "3.6.7"
  }
 },
 "nbformat": 4,
 "nbformat_minor": 2
}
